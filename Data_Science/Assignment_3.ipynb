{
 "cells": [
  {
   "cell_type": "markdown",
   "metadata": {},
   "source": [
    "Testing two populations with different distribution\n",
    "\n",
    "Here we will assume that two test A and B resulted in a different probability distribution, which means two tests are not correlated.\n",
    "We will create two mock data A and B that follows two different probability distribution, and then use various tests to see whether we can determine that two datasets follow different distribution"
   ]
  },
  {
   "cell_type": "code",
   "execution_count": 14,
   "metadata": {},
   "outputs": [],
   "source": [
    "import numpy as np\n",
    "import pandas as pd\n",
    "# 1. Create two mock data with different prob\n",
    "np.random.seed(0)\n",
    "Ax = np.random.normal(2,0.3,100)\n",
    "Bx = np.random.normal(4,1.5,100)\n",
    "x = data['x']\n",
    "d1=pd.DataFrame({'g':'A', 'x':Ax})\n",
    "d2 = pd.DataFrame({'g':'B', 'x' : Bx})\n",
    "data = pd.concat([d1, d2])"
   ]
  },
  {
   "cell_type": "code",
   "execution_count": 13,
   "metadata": {},
   "outputs": [
    {
     "data": {
      "text/html": [
       "<div>\n",
       "<style scoped>\n",
       "    .dataframe tbody tr th:only-of-type {\n",
       "        vertical-align: middle;\n",
       "    }\n",
       "\n",
       "    .dataframe tbody tr th {\n",
       "        vertical-align: top;\n",
       "    }\n",
       "\n",
       "    .dataframe thead th {\n",
       "        text-align: right;\n",
       "    }\n",
       "</style>\n",
       "<table border=\"1\" class=\"dataframe\">\n",
       "  <thead>\n",
       "    <tr style=\"text-align: right;\">\n",
       "      <th></th>\n",
       "      <th>count</th>\n",
       "      <th>mean</th>\n",
       "      <th>std</th>\n",
       "      <th>min</th>\n",
       "      <th>25%</th>\n",
       "      <th>50%</th>\n",
       "      <th>75%</th>\n",
       "      <th>max</th>\n",
       "    </tr>\n",
       "    <tr>\n",
       "      <th>g</th>\n",
       "      <th></th>\n",
       "      <th></th>\n",
       "      <th></th>\n",
       "      <th></th>\n",
       "      <th></th>\n",
       "      <th></th>\n",
       "      <th></th>\n",
       "      <th></th>\n",
       "    </tr>\n",
       "  </thead>\n",
       "  <tbody>\n",
       "    <tr>\n",
       "      <th>A</th>\n",
       "      <td>100.0</td>\n",
       "      <td>2.017942</td>\n",
       "      <td>0.303888</td>\n",
       "      <td>1.234103</td>\n",
       "      <td>1.806843</td>\n",
       "      <td>2.028229</td>\n",
       "      <td>2.221123</td>\n",
       "      <td>2.680926</td>\n",
       "    </tr>\n",
       "    <tr>\n",
       "      <th>B</th>\n",
       "      <td>100.0</td>\n",
       "      <td>4.123019</td>\n",
       "      <td>1.559819</td>\n",
       "      <td>0.664895</td>\n",
       "      <td>2.881855</td>\n",
       "      <td>4.036982</td>\n",
       "      <td>5.271220</td>\n",
       "      <td>7.574717</td>\n",
       "    </tr>\n",
       "  </tbody>\n",
       "</table>\n",
       "</div>"
      ],
      "text/plain": [
       "   count      mean       std       min       25%       50%       75%       max\n",
       "g                                                                             \n",
       "A  100.0  2.017942  0.303888  1.234103  1.806843  2.028229  2.221123  2.680926\n",
       "B  100.0  4.123019  1.559819  0.664895  2.881855  4.036982  5.271220  7.574717"
      ]
     },
     "execution_count": 13,
     "metadata": {},
     "output_type": "execute_result"
    }
   ],
   "source": [
    "data.groupby('g').x.describe()"
   ]
  },
  {
   "cell_type": "code",
   "execution_count": 16,
   "metadata": {},
   "outputs": [
    {
     "data": {
      "text/plain": [
       "ShapiroResult(statistic=0.8438779002027703, pvalue=2.1902281636615102e-13)"
      ]
     },
     "execution_count": 16,
     "metadata": {},
     "output_type": "execute_result"
    }
   ],
   "source": [
    "#normality testing\n",
    "# this \n",
    "from scipy import stats\n",
    "stats.shapiro(x) # Shapiro test gives statistic & pvalue\n",
    "# if the pvalue is larger than 0.05, the data accepts null hypothesis,\n",
    "# which is the data has gaussian distribution. Since pvalue for data is much smaller than 0.05,\n",
    "# we can find out that the distribution is not gaussian"
   ]
  },
  {
   "cell_type": "code",
   "execution_count": 17,
   "metadata": {},
   "outputs": [
    {
     "data": {
      "text/plain": [
       "LeveneResult(statistic=161.37601839530603, pvalue=1.9714363759998126e-27)"
      ]
     },
     "execution_count": 17,
     "metadata": {},
     "output_type": "execute_result"
    }
   ],
   "source": [
    "# Levene Test : Normality isn't satistied\n",
    "stats.levene(d1.x, d2.x)\n",
    "# since the pvalue is much smaller than 0.05, we can infer that two distribution A, B\n",
    "# doesn't have the same variance."
   ]
  },
  {
   "cell_type": "markdown",
   "metadata": {},
   "source": []
  },
  {
   "cell_type": "code",
   "execution_count": 24,
   "metadata": {},
   "outputs": [
    {
     "data": {
      "text/plain": [
       "(-13.246596388961319, 1.4768803753208418e-24, 106.50444127861473)"
      ]
     },
     "execution_count": 24,
     "metadata": {},
     "output_type": "execute_result"
    }
   ],
   "source": [
    "from statsmodels.stats.weightstats import ttest_ind\n",
    "ttest_ind(d1.x, d2.x, alternative='smaller', usevar='unequal')\n",
    "# statistics on whether two distributions have different mean, assuming different variances\n",
    "# this is also called Welch's t-test\n",
    "# since p-value is much smaller than 0.05, two distribution has different mean with different variances."
   ]
  },
  {
   "cell_type": "code",
   "execution_count": 49,
   "metadata": {},
   "outputs": [
    {
     "data": {
      "text/plain": [
       "<matplotlib.legend.Legend at 0x15e87ade0>"
      ]
     },
     "execution_count": 49,
     "metadata": {},
     "output_type": "execute_result"
    },
    {
     "data": {
      "image/png": "[encoded data removed]",
      "text/plain": [
       "<Figure size 600x400 with 1 Axes>"
      ]
     },
     "metadata": {},
     "output_type": "display_data"
    }
   ],
   "source": [
    "import matplotlib.pyplot as plt\n",
    "\n",
    "plt.figure(figsize=(6,4)) # histogram of data, you can clearly see the mean and variance of\n",
    "# each datasets are different\n",
    "\n",
    "plt.hist(data[data['g']=='A']['x'], bins=20, label='A')\n",
    "plt.hist(data[data['g']=='B']['x'], bins=20, label='B', alpha=0.7)\n",
    "plt.legend()"
   ]
  },
  {
   "cell_type": "code",
   "execution_count": null,
   "metadata": {},
   "outputs": [],
   "source": []
  }
 ],
 "metadata": {
  "kernelspec": {
   "display_name": "base",
   "language": "python",
   "name": "python3"
  },
  "language_info": {
   "codemirror_mode": {
    "name": "ipython",
    "version": 3
   },
   "file_extension": ".py",
   "mimetype": "text/x-python",
   "name": "python",
   "nbconvert_exporter": "python",
   "pygments_lexer": "ipython3",
   "version": "3.12.7"
  }
 },
 "nbformat": 4,
 "nbformat_minor": 2
}
