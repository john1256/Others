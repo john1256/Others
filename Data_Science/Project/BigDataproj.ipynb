{
 "cells": [
  {
   "cell_type": "code",
   "execution_count": 73,
   "id": "b83ea73e",
   "metadata": {},
   "outputs": [],
   "source": [
    "import pandas as pd\n",
    "import numpy as np\n",
    "import sys\n",
    "import os\n",
    "import datetime as dt\n",
    "sys.path.append('./Others/Data_Science/Project')"
   ]
  },
  {
   "cell_type": "code",
   "execution_count": null,
   "id": "351c6a43",
   "metadata": {},
   "outputs": [],
   "source": [
    "Temp2023 = pd.read_csv('Temp2023.csv', encoding='cp949')\n",
    "Temp2023 = Temp2023[['일시','기온(°C)','강수량(mm)']]"
   ]
  },
  {
   "cell_type": "code",
   "execution_count": null,
   "id": "7ade371a",
   "metadata": {},
   "outputs": [
    {
     "name": "stderr",
     "output_type": "stream",
     "text": [
      "/tmp/ipykernel_14121/2381164496.py:1: SettingWithCopyWarning: \n",
      "A value is trying to be set on a copy of a slice from a DataFrame.\n",
      "Try using .loc[row_indexer,col_indexer] = value instead\n",
      "\n",
      "See the caveats in the documentation: https://pandas.pydata.org/pandas-docs/stable/user_guide/indexing.html#returning-a-view-versus-a-copy\n",
      "  Temp2023['강수량(mm)'] = Temp2023['강수량(mm)'].fillna(0)\n"
     ]
    }
   ],
   "source": [
    "# nan을 0으로 채우기\n",
    "Temp2023['강수량(mm)'] = Temp2023['강수량(mm)'].fillna(0)"
   ]
  },
  {
   "cell_type": "code",
   "execution_count": null,
   "id": "fc81874d",
   "metadata": {},
   "outputs": [],
   "source": [
    "# 일시에서 시간을 따로 추출하여 행으로 추가함\n",
    "# 일시는 날짜 성분만 남김\n",
    "Temp2023['일시'] = pd.to_datetime(Temp2023['일시'])\n",
    "hours_to_exclude = [1, 2, 3, 4]\n",
    "Temp2023 = Temp2023[~Temp2023['일시'].dt.hour.isin(hours_to_exclude)]\n",
    "Temp2023['시간'] = Temp2023['일시'].dt.hour\n",
    "Temp2023['일시'] = Temp2023['일시'].dt.date\n"
   ]
  },
  {
   "cell_type": "code",
   "execution_count": 80,
   "id": "b3a2ff2a",
   "metadata": {},
   "outputs": [],
   "source": [
    "Temp2023 = Temp2023.drop(Temp2023.index[0])\n",
    "\n",
    "# 시간이 0인 행들의 일시에서 하루 빼기\n",
    "# 먼저 일시를 다시 datetime으로 변환 (현재 date 타입이므로)\n",
    "Temp2023['일시'] = pd.to_datetime(Temp2023['일시'])\n",
    "\n",
    "# 시간이 0인 행들의 일시에서 1일 빼기\n",
    "mask = Temp2023['시간'] == 0\n",
    "Temp2023.loc[mask, '일시'] = Temp2023.loc[mask, '일시'] - pd.Timedelta(days=1)\n",
    "\n",
    "# 필요하다면 다시 date 타입으로 변환\n",
    "Temp2023['일시'] = Temp2023['일시'].dt.date\n",
    "\n",
    "# 인덱스 재설정 (선택사항)\n",
    "Temp2023 = Temp2023.reset_index(drop=True)"
   ]
  },
  {
   "cell_type": "code",
   "execution_count": null,
   "id": "3a299827",
   "metadata": {},
   "outputs": [],
   "source": [
    "sub2023 = pd.read_csv('sub2023.csv', encoding='cp949')"
   ]
  },
  {
   "cell_type": "code",
   "execution_count": null,
   "id": "320ce2ea",
   "metadata": {},
   "outputs": [
    {
     "name": "stderr",
     "output_type": "stream",
     "text": [
      "/tmp/ipykernel_14121/794108682.py:2: SettingWithCopyWarning: \n",
      "A value is trying to be set on a copy of a slice from a DataFrame.\n",
      "Try using .loc[row_indexer,col_indexer] = value instead\n",
      "\n",
      "See the caveats in the documentation: https://pandas.pydata.org/pandas-docs/stable/user_guide/indexing.html#returning-a-view-versus-a-copy\n",
      "  sub2023_cityhall['수송일자'] = pd.to_datetime(sub2023_cityhall['수송일자'])\n"
     ]
    }
   ],
   "source": [
    "# 시청 먼저 해보기기\n",
    "sub2023_cityhall = sub2023[(sub2023['역명']=='시청')]\n",
    "sub2023_cityhall['수송일자'] = pd.to_datetime(sub2023_cityhall['수송일자'])"
   ]
  },
  {
   "cell_type": "code",
   "execution_count": 82,
   "id": "c8ac404c",
   "metadata": {},
   "outputs": [],
   "source": [
    "# 새로운 데이터프레임 생성\n",
    "# 시간을 새로운 column으으로 추가할 것임\n",
    "passenger = sub2023_cityhall.iloc[:,6:].values.flatten()\n",
    "hour = np.arange(0,len(passenger)) % 20 + 5\n",
    "hour[hour == 24] = 0\n",
    "sub2023df = pd.DataFrame({\n",
    "    '일자': sub2023_cityhall['수송일자'].values.repeat(20),\n",
    "    '시간': hour,\n",
    "    '승하차구분' : sub2023_cityhall['승하차구분'].values.repeat(20),\n",
    "    '호선' : sub2023_cityhall['호선'].values.repeat(20),\n",
    "    '승차인원': passenger\n",
    "})"
   ]
  },
  {
   "cell_type": "code",
   "execution_count": 87,
   "id": "016c6d1d",
   "metadata": {},
   "outputs": [],
   "source": [
    "# sub2023df의 일자를 date 타입으로 변환 (비교를 위해)\n",
    "sub2023df['일자_date'] = sub2023df['일자'].dt.date\n",
    "\n",
    "# 일자와 시간을 기준으로 left join\n",
    "sub2023dfarr = sub2023df.merge(\n",
    "    Temp2023,\n",
    "    left_on=['일자_date', '시간'],\n",
    "    right_on=['일시', '시간'],\n",
    "    how='left'\n",
    ")\n",
    "sub2023dfarr = sub2023dfarr.drop(columns=['일자_date', '일시'])"
   ]
  },
  {
   "cell_type": "code",
   "execution_count": null,
   "id": "d34d1619",
   "metadata": {},
   "outputs": [],
   "source": []
  }
 ],
 "metadata": {
  "kernelspec": {
   "display_name": "base",
   "language": "python",
   "name": "python3"
  },
  "language_info": {
   "codemirror_mode": {
    "name": "ipython",
    "version": 3
   },
   "file_extension": ".py",
   "mimetype": "text/x-python",
   "name": "python",
   "nbconvert_exporter": "python",
   "pygments_lexer": "ipython3",
   "version": "3.12.7"
  }
 },
 "nbformat": 4,
 "nbformat_minor": 5
}
