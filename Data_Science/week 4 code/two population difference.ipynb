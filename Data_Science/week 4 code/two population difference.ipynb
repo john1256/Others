{
 "cells": [
  {
   "cell_type": "code",
   "execution_count": 1,
   "id": "9ee84e06",
   "metadata": {},
   "outputs": [
    {
     "data": {
      "text/html": [
       "<div>\n",
       "<style scoped>\n",
       "    .dataframe tbody tr th:only-of-type {\n",
       "        vertical-align: middle;\n",
       "    }\n",
       "\n",
       "    .dataframe tbody tr th {\n",
       "        vertical-align: top;\n",
       "    }\n",
       "\n",
       "    .dataframe thead th {\n",
       "        text-align: right;\n",
       "    }\n",
       "</style>\n",
       "<table border=\"1\" class=\"dataframe\">\n",
       "  <thead>\n",
       "    <tr style=\"text-align: right;\">\n",
       "      <th></th>\n",
       "      <th>0</th>\n",
       "      <th>1</th>\n",
       "      <th>2</th>\n",
       "      <th>3</th>\n",
       "      <th>4</th>\n",
       "      <th>5</th>\n",
       "      <th>6</th>\n",
       "      <th>7</th>\n",
       "      <th>8</th>\n",
       "      <th>9</th>\n",
       "    </tr>\n",
       "  </thead>\n",
       "  <tbody>\n",
       "    <tr>\n",
       "      <th>g</th>\n",
       "      <td>A</td>\n",
       "      <td>A</td>\n",
       "      <td>A</td>\n",
       "      <td>A</td>\n",
       "      <td>A</td>\n",
       "      <td>B</td>\n",
       "      <td>B</td>\n",
       "      <td>B</td>\n",
       "      <td>B</td>\n",
       "      <td>B</td>\n",
       "    </tr>\n",
       "    <tr>\n",
       "      <th>x</th>\n",
       "      <td>2.0</td>\n",
       "      <td>2.0</td>\n",
       "      <td>2.3</td>\n",
       "      <td>2.1</td>\n",
       "      <td>2.4</td>\n",
       "      <td>2.2</td>\n",
       "      <td>1.9</td>\n",
       "      <td>2.5</td>\n",
       "      <td>2.3</td>\n",
       "      <td>2.4</td>\n",
       "    </tr>\n",
       "  </tbody>\n",
       "</table>\n",
       "</div>"
      ],
      "text/plain": [
       "     0    1    2    3    4    5    6    7    8    9\n",
       "g    A    A    A    A    A    B    B    B    B    B\n",
       "x  2.0  2.0  2.3  2.1  2.4  2.2  1.9  2.5  2.3  2.4"
      ]
     },
     "execution_count": 1,
     "metadata": {},
     "output_type": "execute_result"
    }
   ],
   "source": [
    "import numpy as np\n",
    "import pandas as pd\n",
    "\n",
    "#x:iron content  g: Analysis method\n",
    "x=np.array([2.0,2.0,2.3,2.1,2.4,2.2,1.9,2.5,2.3,2.4])\n",
    "g=np.repeat(np.array(['A', 'B']), 5)\n",
    "d={'g':g, 'x':x}\n",
    "data=pd.DataFrame(data=d)\n",
    "data.T"
   ]
  },
  {
   "cell_type": "code",
   "execution_count": 11,
   "id": "ab499379",
   "metadata": {},
   "outputs": [
    {
     "data": {
      "text/html": [
       "<div>\n",
       "<style scoped>\n",
       "    .dataframe tbody tr th:only-of-type {\n",
       "        vertical-align: middle;\n",
       "    }\n",
       "\n",
       "    .dataframe tbody tr th {\n",
       "        vertical-align: top;\n",
       "    }\n",
       "\n",
       "    .dataframe thead th {\n",
       "        text-align: right;\n",
       "    }\n",
       "</style>\n",
       "<table border=\"1\" class=\"dataframe\">\n",
       "  <thead>\n",
       "    <tr style=\"text-align: right;\">\n",
       "      <th></th>\n",
       "      <th>count</th>\n",
       "      <th>mean</th>\n",
       "      <th>std</th>\n",
       "      <th>min</th>\n",
       "      <th>25%</th>\n",
       "      <th>50%</th>\n",
       "      <th>75%</th>\n",
       "      <th>max</th>\n",
       "    </tr>\n",
       "    <tr>\n",
       "      <th>g</th>\n",
       "      <th></th>\n",
       "      <th></th>\n",
       "      <th></th>\n",
       "      <th></th>\n",
       "      <th></th>\n",
       "      <th></th>\n",
       "      <th></th>\n",
       "      <th></th>\n",
       "    </tr>\n",
       "  </thead>\n",
       "  <tbody>\n",
       "    <tr>\n",
       "      <th>A</th>\n",
       "      <td>5.0</td>\n",
       "      <td>2.16</td>\n",
       "      <td>0.181659</td>\n",
       "      <td>2.0</td>\n",
       "      <td>2.0</td>\n",
       "      <td>2.1</td>\n",
       "      <td>2.3</td>\n",
       "      <td>2.4</td>\n",
       "    </tr>\n",
       "    <tr>\n",
       "      <th>B</th>\n",
       "      <td>5.0</td>\n",
       "      <td>2.26</td>\n",
       "      <td>0.230217</td>\n",
       "      <td>1.9</td>\n",
       "      <td>2.2</td>\n",
       "      <td>2.3</td>\n",
       "      <td>2.4</td>\n",
       "      <td>2.5</td>\n",
       "    </tr>\n",
       "  </tbody>\n",
       "</table>\n",
       "</div>"
      ],
      "text/plain": [
       "   count  mean       std  min  25%  50%  75%  max\n",
       "g                                                \n",
       "A    5.0  2.16  0.181659  2.0  2.0  2.1  2.3  2.4\n",
       "B    5.0  2.26  0.230217  1.9  2.2  2.3  2.4  2.5"
      ]
     },
     "execution_count": 11,
     "metadata": {},
     "output_type": "execute_result"
    }
   ],
   "source": [
    "#group  A:chemical method  B:X ray\n",
    "A=data[data.g=='A']\n",
    "B=data[data.g=='B']\n",
    "\n",
    "#statistical analysis according to the group\n",
    "data.groupby(\"g\").x.describe()\n"
   ]
  },
  {
   "cell_type": "code",
   "execution_count": 3,
   "id": "fdd82631",
   "metadata": {},
   "outputs": [
    {
     "data": {
      "text/plain": [
       "ShapiroResult(statistic=0.9437551498413086, pvalue=0.5955022573471069)"
      ]
     },
     "execution_count": 3,
     "metadata": {},
     "output_type": "execute_result"
    }
   ],
   "source": [
    "#normality testing\n",
    "from scipy.stats import shapiro\n",
    "shapiro(x)\n"
   ]
  },
  {
   "cell_type": "code",
   "execution_count": 4,
   "id": "10076a51",
   "metadata": {},
   "outputs": [
    {
     "data": {
      "text/plain": [
       "BartlettResult(statistic=0.19769157819919453, pvalue=0.6565906251784377)"
      ]
     },
     "execution_count": 4,
     "metadata": {},
     "output_type": "execute_result"
    }
   ],
   "source": [
    "#Equal variance test - Bartlett test (when normality is satisfied)\n",
    "from scipy import stats\n",
    "stats.bartlett(A.x, B.x)\n"
   ]
  },
  {
   "cell_type": "code",
   "execution_count": 5,
   "id": "2dae0ae0",
   "metadata": {},
   "outputs": [
    {
     "data": {
      "text/plain": [
       "LeveneResult(statistic=0.05555555555555569, pvalue=0.8195856784525775)"
      ]
     },
     "execution_count": 5,
     "metadata": {},
     "output_type": "execute_result"
    }
   ],
   "source": [
    "#Equal variance test - Levene test (when normality is not satisfied)\n",
    "from scipy import stats\n",
    "stats.levene(A.x, B.x)\n"
   ]
  },
  {
   "cell_type": "code",
   "execution_count": 6,
   "id": "7d36ba7f",
   "metadata": {},
   "outputs": [
    {
     "data": {
      "text/plain": [
       "Ttest_indResult(statistic=-0.7624928516630208, pvalue=0.4676497723369858)"
      ]
     },
     "execution_count": 6,
     "metadata": {},
     "output_type": "execute_result"
    }
   ],
   "source": [
    "#T test - two-sided test, equal variance assumption\n",
    "from scipy.stats import ttest_ind\n",
    "ttest_ind(A.x, B.x, equal_var=True)\n"
   ]
  },
  {
   "cell_type": "code",
   "execution_count": 7,
   "id": "603d5ed6",
   "metadata": {},
   "outputs": [
    {
     "data": {
      "text/plain": [
       "(-0.7624928516630208, 0.2338248861684929, 8.0)"
      ]
     },
     "execution_count": 7,
     "metadata": {},
     "output_type": "execute_result"
    }
   ],
   "source": [
    "#T test - one-sided test, equal variance assumption\n",
    "from statsmodels.stats.weightstats import ttest_ind\n",
    "ttest_ind(A.x, B.x, alternative='smaller', usevar='pooled')\n"
   ]
  },
  {
   "cell_type": "code",
   "execution_count": 8,
   "id": "f03ba57a",
   "metadata": {},
   "outputs": [
    {
     "data": {
      "text/plain": [
       "(-0.7624928516630208, 0.46879774681771524, 7.589533093894302)"
      ]
     },
     "execution_count": 8,
     "metadata": {},
     "output_type": "execute_result"
    }
   ],
   "source": [
    "#T test - one-tailed test, heteroskedasticity assumption\n",
    "ttest_ind(A.x, B.x, alternative='two-sided', usevar='unequal')"
   ]
  },
  {
   "cell_type": "code",
   "execution_count": null,
   "id": "0319da6e",
   "metadata": {},
   "outputs": [],
   "source": []
  }
 ],
 "metadata": {
  "kernelspec": {
   "display_name": "Python [conda env:base] *",
   "language": "python",
   "name": "conda-base-py"
  },
  "language_info": {
   "codemirror_mode": {
    "name": "ipython",
    "version": 3
   },
   "file_extension": ".py",
   "mimetype": "text/x-python",
   "name": "python",
   "nbconvert_exporter": "python",
   "pygments_lexer": "ipython3",
   "version": "3.12.7"
  }
 },
 "nbformat": 4,
 "nbformat_minor": 5
}
