{
 "cells": [
  {
   "cell_type": "code",
   "execution_count": 5,
   "id": "8246d226",
   "metadata": {},
   "outputs": [
    {
     "data": {
      "text/html": [
       "<div>\n",
       "<style scoped>\n",
       "    .dataframe tbody tr th:only-of-type {\n",
       "        vertical-align: middle;\n",
       "    }\n",
       "\n",
       "    .dataframe tbody tr th {\n",
       "        vertical-align: top;\n",
       "    }\n",
       "\n",
       "    .dataframe thead th {\n",
       "        text-align: right;\n",
       "    }\n",
       "</style>\n",
       "<table border=\"1\" class=\"dataframe\">\n",
       "  <thead>\n",
       "    <tr style=\"text-align: right;\">\n",
       "      <th></th>\n",
       "      <th>0</th>\n",
       "      <th>1</th>\n",
       "      <th>2</th>\n",
       "      <th>3</th>\n",
       "      <th>4</th>\n",
       "      <th>5</th>\n",
       "      <th>6</th>\n",
       "      <th>7</th>\n",
       "    </tr>\n",
       "  </thead>\n",
       "  <tbody>\n",
       "    <tr>\n",
       "      <th>y</th>\n",
       "      <td>116</td>\n",
       "      <td>96</td>\n",
       "      <td>239</td>\n",
       "      <td>329</td>\n",
       "      <td>437</td>\n",
       "      <td>597</td>\n",
       "      <td>689</td>\n",
       "      <td>576</td>\n",
       "    </tr>\n",
       "    <tr>\n",
       "      <th>x</th>\n",
       "      <td>224</td>\n",
       "      <td>270</td>\n",
       "      <td>400</td>\n",
       "      <td>444</td>\n",
       "      <td>590</td>\n",
       "      <td>660</td>\n",
       "      <td>1400</td>\n",
       "      <td>680</td>\n",
       "    </tr>\n",
       "  </tbody>\n",
       "</table>\n",
       "</div>"
      ],
      "text/plain": [
       "     0    1    2    3    4    5     6    7\n",
       "y  116   96  239  329  437  597   689  576\n",
       "x  224  270  400  444  590  660  1400  680"
      ]
     },
     "execution_count": 5,
     "metadata": {},
     "output_type": "execute_result"
    }
   ],
   "source": [
    "import numpy as np\n",
    "import pandas as pd\n",
    "\n",
    "x=np.array([224,270,400,444,590,660,1400,680])\n",
    "y=np.array([116,96,239,329,437,597,689,576])\n",
    "d={'y':y, 'x':x}\n",
    "data=pd.DataFrame(data=d)\n",
    "data.T"
   ]
  },
  {
   "cell_type": "code",
   "execution_count": 2,
   "id": "3b4bf42b",
   "metadata": {},
   "outputs": [
    {
     "data": {
      "text/plain": [
       "Ttest_relResult(statistic=2.673117820270042, pvalue=0.031855388760108426)"
      ]
     },
     "execution_count": 2,
     "metadata": {},
     "output_type": "execute_result"
    }
   ],
   "source": [
    "from scipy.stats import ttest_rel\n",
    "#Paired T test - two-tailed test\n",
    "ttest_rel(x,y)\n"
   ]
  },
  {
   "cell_type": "code",
   "execution_count": 3,
   "id": "d78faa8b",
   "metadata": {},
   "outputs": [
    {
     "name": "stdout",
     "output_type": "stream",
     "text": [
      "one-sided p-value= 0.015927694380054213\n"
     ]
    }
   ],
   "source": [
    "#Paired T test - one-tailed test\n",
    "pval=ttest_rel(x,y)[1]\n",
    "print('one-sided p-value=', pval/2)"
   ]
  }
 ],
 "metadata": {
  "kernelspec": {
   "display_name": "Python 3 (ipykernel)",
   "language": "python",
   "name": "python3"
  },
  "language_info": {
   "codemirror_mode": {
    "name": "ipython",
    "version": 3
   },
   "file_extension": ".py",
   "mimetype": "text/x-python",
   "name": "python",
   "nbconvert_exporter": "python",
   "pygments_lexer": "ipython3",
   "version": "3.9.12"
  }
 },
 "nbformat": 4,
 "nbformat_minor": 5
}
