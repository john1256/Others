{
 "cells": [
  {
   "cell_type": "code",
   "execution_count": 1,
   "id": "912c8d5b",
   "metadata": {},
   "outputs": [
    {
     "data": {
      "text/plain": [
       "Ttest_1sampResult(statistic=0.7184212081071027, pvalue=0.49294291575412763)"
      ]
     },
     "execution_count": 1,
     "metadata": {},
     "output_type": "execute_result"
    }
   ],
   "source": [
    "import numpy as np\n",
    "x=np.array([2000, 1975, 1900, 2000, 1950, 1850, 1950, 2100, 1975])\n",
    "\n",
    "# t-test for one sample\n",
    "import scipy.stats as stats\n",
    "stats.ttest_1samp(x, popmean=1950)"
   ]
  }
 ],
 "metadata": {
  "kernelspec": {
   "display_name": "Python 3 (ipykernel)",
   "language": "python",
   "name": "python3"
  },
  "language_info": {
   "codemirror_mode": {
    "name": "ipython",
    "version": 3
   },
   "file_extension": ".py",
   "mimetype": "text/x-python",
   "name": "python",
   "nbconvert_exporter": "python",
   "pygments_lexer": "ipython3",
   "version": "3.9.12"
  }
 },
 "nbformat": 4,
 "nbformat_minor": 5
}
